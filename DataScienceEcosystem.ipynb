{
 "cells": [
  {
   "cell_type": "markdown",
   "id": "d8f30ad1-2b92-4820-b1ef-fbfd6e87c81c",
   "metadata": {},
   "source": [
    "# Data Science Tools and Ecosystem"
   ]
  },
  {
   "cell_type": "markdown",
   "id": "f76c9ce8-271f-4cf7-808e-6e725e0ba556",
   "metadata": {},
   "source": [
    "## Author\n",
    "John Cooper"
   ]
  },
  {
   "attachments": {},
   "cell_type": "markdown",
   "id": "6274bee9-b331-4d98-ba2e-98f46d2081a2",
   "metadata": {},
   "source": [
    "In this notebook, Data Science Tools and Ecosystem are summarized"
   ]
  },
  {
   "cell_type": "markdown",
   "id": "eccf5970-e453-485d-8c86-c4c472ce2f51",
   "metadata": {},
   "source": [
    "**Objectives:**\n",
    "- popular languages\n",
    "- commonly used libraries\n",
    "- data science tools\n",
    "- arithmetic\n",
    "- time conversion"
   ]
  },
  {
   "cell_type": "markdown",
   "id": "473af2aa-8fa6-440c-a41c-6628c5f8fa22",
   "metadata": {},
   "source": [
    "Some of the popular languages that Data Scientists use are: \n",
    "1. python\n",
    "2. R\n",
    "3. SQL"
   ]
  },
  {
   "cell_type": "markdown",
   "id": "62bc2de8-4286-4528-ae0a-24a94ba44114",
   "metadata": {},
   "source": [
    "Some of the commonly used libraries used by Data Scientists include:\n",
    "1. Pandas\n",
    "2. NumPy\n",
    "3. SciPy\n"
   ]
  },
  {
   "cell_type": "markdown",
   "id": "71b2a968-f619-4b8d-9fbf-ca852bc9aee0",
   "metadata": {},
   "source": [
    "| Data Science Tools |\n",
    "| --- |\n",
    "| Anaconda |\n",
    "| AWS |\n",
    "| Keras |\n"
   ]
  },
  {
   "cell_type": "markdown",
   "id": "778bbee0-bd32-4fc6-b445-16612fb23e37",
   "metadata": {},
   "source": [
    "### Below are a few examples of evaluating arithmetic expressions in Python"
   ]
  },
  {
   "cell_type": "code",
   "execution_count": 2,
   "id": "2269cc29-5b01-4f11-bfb6-9ce73e708243",
   "metadata": {},
   "outputs": [
    {
     "data": {
      "text/plain": [
       "17"
      ]
     },
     "execution_count": 2,
     "metadata": {},
     "output_type": "execute_result"
    }
   ],
   "source": [
    "## This is a simple arithmetic expression to multiply then add integers ##\n",
    "(3*4)+5"
   ]
  },
  {
   "cell_type": "code",
   "execution_count": 18,
   "id": "ebe7489f-e256-4856-bb9b-6d734e0730c1",
   "metadata": {},
   "outputs": [],
   "source": [
    "## This will convert 200 minutes to hours by dividing by 60 ##\n",
    "minutes = 200\n",
    "hours = (200//60)\n"
   ]
  },
  {
   "cell_type": "code",
   "execution_count": null,
   "id": "f4e48b7b-9c5c-490b-80e7-e98531ce44e2",
   "metadata": {},
   "outputs": [],
   "source": []
  },
  {
   "cell_type": "code",
   "execution_count": null,
   "id": "cf7ec8ce-0cbb-4c25-824c-fd4b00d56e82",
   "metadata": {},
   "outputs": [],
   "source": []
  },
  {
   "cell_type": "code",
   "execution_count": null,
   "id": "e7a84b35-89c8-4ce8-8e92-b7d1c4f8bbf7",
   "metadata": {},
   "outputs": [],
   "source": []
  }
 ],
 "metadata": {
  "kernelspec": {
   "display_name": "Python 3 (ipykernel)",
   "language": "python",
   "name": "python3"
  },
  "language_info": {
   "codemirror_mode": {
    "name": "ipython",
    "version": 3
   },
   "file_extension": ".py",
   "mimetype": "text/x-python",
   "name": "python",
   "nbconvert_exporter": "python",
   "pygments_lexer": "ipython3",
   "version": "3.11.7"
  }
 },
 "nbformat": 4,
 "nbformat_minor": 5
}
